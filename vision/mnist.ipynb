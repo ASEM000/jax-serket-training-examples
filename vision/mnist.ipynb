{
  "cells": [
    {
      "cell_type": "markdown",
      "metadata": {
        "id": "k0i-yEycZkF-"
      },
      "source": [
        "# ![](https://img.shields.io/badge/vision-2f5ada) Train `MNIST`"
      ]
    },
    {
      "cell_type": "markdown",
      "metadata": {
        "id": "mdM9pVTUZkGC"
      },
      "source": [
        "# Imports"
      ]
    },
    {
      "cell_type": "code",
      "execution_count": 3,
      "metadata": {
        "colab": {
          "base_uri": "https://localhost:8080/"
        },
        "id": "HL0vQXylZmcw",
        "outputId": "b380b72a-649c-4897-a482-f260f63a6809"
      },
      "outputs": [],
      "source": [
        "!pip install git+https://github.com/ASEM000/serket --quiet\n",
        "!pip install optax --quiet\n",
        "!pip install tqdm --quiet\n",
        "!pip install ml_collections --quiet"
      ]
    },
    {
      "cell_type": "code",
      "execution_count": 4,
      "metadata": {
        "colab": {
          "base_uri": "https://localhost:8080/"
        },
        "id": "xXc4hBALZkGD",
        "outputId": "e95d6394-93b5-4d56-8136-505bce30d9b6"
      },
      "outputs": [],
      "source": [
        "import requests\n",
        "from io import BytesIO\n",
        "import jax\n",
        "import jax.numpy as jnp\n",
        "import functools as ft\n",
        "import optax  # for gradient optimization\n",
        "import serket as sk\n",
        "import matplotlib.pyplot as plt  # for plotting the predictions\n",
        "from tqdm import tqdm  # for progress bar\n",
        "from ml_collections import ConfigDict  # for configuration\n",
        "\n",
        "config = ConfigDict()\n",
        "config.EPOCHS = 1\n",
        "config.LR = 1e-3\n",
        "config.BATCH_SIZE = 128\n",
        "config.seed = 0"
      ]
    },
    {
      "cell_type": "markdown",
      "metadata": {
        "id": "5W8_JuFbZkGF"
      },
      "source": [
        "## Data preparation"
      ]
    },
    {
      "cell_type": "code",
      "execution_count": 5,
      "metadata": {
        "id": "foBqrS8VZkGF"
      },
      "outputs": [],
      "source": [
        "url = \"https://storage.googleapis.com/tensorflow/tf-keras-datasets/mnist.npz\"\n",
        "data = jnp.load(BytesIO(requests.get(url).content))\n",
        "\n",
        "x_train = data[\"x_train\"].reshape(-1, 1, 28, 28).astype(\"float32\") / 255.0\n",
        "x_train = jnp.array_split(x_train, x_train.shape[0] // config.BATCH_SIZE)\n",
        "y_train = jnp.array_split(data[\"y_train\"], len(data[\"y_train\"]) // config.BATCH_SIZE)\n",
        "\n",
        "x_test = data[\"x_test\"].reshape(-1, 1, 28, 28).astype(\"float32\") / 255.0\n",
        "y_test = data[\"y_test\"]"
      ]
    },
    {
      "cell_type": "markdown",
      "metadata": {
        "id": "r2zMI_8OZkGG"
      },
      "source": [
        "## Model creation"
      ]
    },
    {
      "cell_type": "code",
      "execution_count": 6,
      "metadata": {
        "id": "aEB4UzU7ZkGH"
      },
      "outputs": [],
      "source": [
        "class ConvNet(sk.TreeClass):\n",
        "    def __init__(self, key: jax.Array):\n",
        "        k1, k2, k3 = jax.random.split(key, 3)\n",
        "        self.conv1 = sk.nn.Conv2D(1, 32, 3, key=k1, padding=\"valid\")\n",
        "        self.pool1 = sk.nn.MaxPool2D(2, 2)\n",
        "        self.conv2 = sk.nn.Conv2D(32, 64, 3, key=k2, padding=\"valid\")\n",
        "        self.pool2 = sk.nn.MaxPool2D(2, 2)\n",
        "        self.linear = sk.nn.Linear(1600, 10, key=k3)\n",
        "\n",
        "    def __call__(self, input: jax.Array) -> jax.Array:\n",
        "        output = self.pool1(jax.nn.relu(self.conv1(input)))\n",
        "        output = self.pool2(jax.nn.relu(self.conv2(output)))\n",
        "        output = self.linear(jnp.ravel(output))\n",
        "        return output"
      ]
    },
    {
      "cell_type": "markdown",
      "metadata": {
        "id": "9Apr03C_ZkGJ"
      },
      "source": [
        "## Train"
      ]
    },
    {
      "cell_type": "code",
      "execution_count": 8,
      "metadata": {
        "id": "9X_xMaWEZkGJ"
      },
      "outputs": [
        {
          "name": "stdout",
          "output_type": "stream",
          "text": [
            "┌───────┬─────────┬──────┬────────┐\n",
            "│Name   │Type     │Count │Size    │\n",
            "├───────┼─────────┼──────┼────────┤\n",
            "│.conv1 │Conv2D   │320   │1.25KB  │\n",
            "├───────┼─────────┼──────┼────────┤\n",
            "│.pool1 │MaxPool2D│      │        │\n",
            "├───────┼─────────┼──────┼────────┤\n",
            "│.conv2 │Conv2D   │18,496│72.25KB │\n",
            "├───────┼─────────┼──────┼────────┤\n",
            "│.pool2 │MaxPool2D│      │        │\n",
            "├───────┼─────────┼──────┼────────┤\n",
            "│.linear│Linear   │16,010│62.54KB │\n",
            "├───────┼─────────┼──────┼────────┤\n",
            "│Σ      │ConvNet  │34,826│136.04KB│\n",
            "└───────┴─────────┴──────┴────────┘\n"
          ]
        },
        {
          "name": "stderr",
          "output_type": "stream",
          "text": [
            "Epoch: 001/001\tloss: 2.879160e-01\taccuracy: 0.920252: 100%|██████████| 1/1 [00:21<00:00, 21.87s/it]       \n"
          ]
        }
      ],
      "source": [
        "@jax.vmap\n",
        "def softmax_cross_entropy(logits, onehot):\n",
        "    assert onehot.shape == logits.shape == (10,)\n",
        "    return -jnp.sum(jax.nn.log_softmax(logits) * onehot)\n",
        "\n",
        "\n",
        "@jax.jit\n",
        "@jax.vmap\n",
        "def accuracy_func(logits, y):\n",
        "    assert logits.shape == (10,)\n",
        "    return jnp.argmax(logits) == y\n",
        "\n",
        "\n",
        "def train(config: ConfigDict, x_train, y_train):\n",
        "    # 1) create net and mask out all non-inexact parameters\n",
        "    net = sk.tree_mask(ConvNet(key=jax.random.key(config.seed)))\n",
        "\n",
        "    # visualize the network\n",
        "    print(sk.tree_summary(net, depth=1))\n",
        "\n",
        "    optim = optax.adam(config.LR)\n",
        "    # 2) initialize the optimizer state\n",
        "    optim_state = optim.init(net)\n",
        "\n",
        "    def loss_func(net, x, y):\n",
        "        # 3) vectorize the computation over the batch\n",
        "        logits = jax.vmap(sk.tree_unmask(net))(x)\n",
        "        onehot = jax.nn.one_hot(y, 10)\n",
        "        # 4) use the appropriate loss function\n",
        "        loss = jnp.mean(softmax_cross_entropy(logits, onehot))\n",
        "        # return loss and logits as an auxillary output\n",
        "        return loss, (loss, logits)\n",
        "\n",
        "    @jax.jit\n",
        "    def train_step(net, optim_state, x, y):\n",
        "        # the loss function will have an output of (loss, logits)\n",
        "        # as an auxillary output, and will have a gradient `grads` of same\n",
        "        # structure as net with each array being the gradient of the\n",
        "        # corresponding array in net\n",
        "        grads, (loss, logits) = jax.grad(loss_func, has_aux=True)(net, x, y)\n",
        "\n",
        "        # 5) update the parameters using the optimizer\n",
        "        updates, optim_state = optim.update(grads, optim_state)\n",
        "        net = optax.apply_updates(net, updates)\n",
        "        return net, optim_state, (loss, logits)\n",
        "\n",
        "    for i in (pbar := tqdm(range(1, config.EPOCHS + 1))):\n",
        "        epoch_loss = []\n",
        "        epoch_accuracy = []\n",
        "\n",
        "        for j, (xb, yb) in enumerate(zip(x_train, y_train)):\n",
        "            net, optim_state, (loss, logits) = train_step(net, optim_state, xb, yb)\n",
        "            accuracy = jnp.mean(accuracy_func(logits, yb))\n",
        "\n",
        "            desc = [f\"Epoch: {i:003d}/{config.EPOCHS:003d}\"]\n",
        "            desc += [f\"Batch: {j:003d}/{len(x_train):003d}\"]\n",
        "            desc += [f\"loss: {loss:3e}\\taccuracy: {accuracy:3f}\"]\n",
        "            pbar.set_description(\"\\t\".join(desc))\n",
        "\n",
        "            epoch_loss.append(loss)\n",
        "            epoch_accuracy.append(accuracy)\n",
        "\n",
        "        desc = [f\"Epoch: {i:003d}/{config.EPOCHS:003d}\"]\n",
        "        desc += [f\"loss: {jnp.mean(jnp.stack(epoch_loss)):3e}\"]\n",
        "        desc += [f\"accuracy: {jnp.mean(jnp.stack(epoch_accuracy)):3f}\"]\n",
        "\n",
        "        pbar.set_description(\"\\t\".join(desc))\n",
        "\n",
        "    # return the unmasked network\n",
        "    # (i.e. with all non-inexact parameters unmasked)\n",
        "    return sk.tree_unmask(net)\n",
        "\n",
        "\n",
        "net = train(config, x_train, y_train)"
      ]
    },
    {
      "cell_type": "markdown",
      "metadata": {},
      "source": [
        "## Visualize"
      ]
    },
    {
      "cell_type": "code",
      "execution_count": 9,
      "metadata": {},
      "outputs": [
        {
          "name": "stdout",
          "output_type": "stream",
          "text": [
            "test accuracy: 0.9751999974250793\n"
          ]
        },
        {
          "data": {
            "image/png": "[encoded data removed]",
            "text/plain": [
              "<Figure size 1000x400 with 10 Axes>"
            ]
          },
          "metadata": {},
          "output_type": "display_data"
        }
      ],
      "source": [
        "test_preds = jax.vmap(net)(x_test)\n",
        "test_accuracy = jnp.mean(accuracy_func(test_preds, y_test))\n",
        "\n",
        "print(f\"test accuracy: {test_accuracy}\")\n",
        "\n",
        "# create 2x5 grid of images\n",
        "key = jax.random.key(0)\n",
        "fig, axes = plt.subplots(2, 5, figsize=(10, 4))\n",
        "idxs = jax.random.randint(key, shape=(10,), minval=0, maxval=x_train[0].shape[0])\n",
        "\n",
        "for i, idx in zip(axes.flatten(), idxs):\n",
        "    # get the prediction\n",
        "    pred = net(x_test[idx])\n",
        "    # plot the image\n",
        "    i.imshow(x_test[idx].reshape(28, 28), cmap=\"gray\")\n",
        "    # set the title to be the prediction\n",
        "    i.set_title(jnp.argmax(pred))\n",
        "    i.set_xticks([])\n",
        "    i.set_yticks([])"
      ]
    }
  ],
  "metadata": {
    "colab": {
      "include_colab_link": true,
      "provenance": []
    },
    "kernelspec": {
      "display_name": "dev-jax",
      "language": "python",
      "name": "python3"
    },
    "language_info": {
      "codemirror_mode": {
        "name": "ipython",
        "version": 3
      },
      "file_extension": ".py",
      "mimetype": "text/x-python",
      "name": "python",
      "nbconvert_exporter": "python",
      "pygments_lexer": "ipython3",
      "version": "3.11.0"
    },
    "orig_nbformat": 4
  },
  "nbformat": 4,
  "nbformat_minor": 0
}
